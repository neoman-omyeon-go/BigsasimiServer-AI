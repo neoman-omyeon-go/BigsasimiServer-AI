{
 "cells": [
  {
   "cell_type": "code",
   "execution_count": 2,
   "metadata": {},
   "outputs": [],
   "source": [
    "import glob\n",
    "\n",
    "# train_img_list = glob.glob('/content/drive/MyDrive/yolo_sample/train/images/*.jpg') + glob.glob('/content/drive/MyDrive/yolo_sample/train/images/*.jpeg')\n",
    "train_img_list = glob.glob('/home/eslab/osh/CapStone/data9/*.jpg') + glob.glob('/home/eslab/osh/CapStone/data9/*.png')\n",
    "\n",
    "\n",
    "with open('/home/eslab/osh/CapStone/data9/train.txt', 'w') as f:\n",
    "    f.write('\\n'.join(train_img_list) + '\\n')\n"
   ]
  },
  {
   "cell_type": "code",
   "execution_count": 3,
   "metadata": {},
   "outputs": [],
   "source": [
    "import yaml\n",
    "\n",
    "with open('/home/eslab/osh/CapStone/yolo/yolov5/data/nutrition.yaml', 'r') as f:\n",
    "    data = yaml.load(f, Loader=yaml.FullLoader)\n",
    "\n",
    "data['train'] = '/home/eslab/osh/CapStone/yolo/yolov5/segment/train.txt'\n",
    "\n",
    "with open('/home/eslab/osh/CapStone/yolo/yolov5/data/nutrition.yaml', 'w') as f:\n",
    "    yaml.dump(data, f)"
   ]
  },
  {
   "cell_type": "code",
   "execution_count": 8,
   "metadata": {},
   "outputs": [
    {
     "name": "stdout",
     "output_type": "stream",
     "text": [
      "Missing labels: 0\n",
      "Missing images: 0\n"
     ]
    }
   ],
   "source": [
    "import os\n",
    "\n",
    "image_dir = '/home/eslab/osh/CapStone/data9'\n",
    "label_dir = '/home/eslab/osh/CapStone/data9/labels'  # Adjust if using the same directory for images and labels\n",
    "\n",
    "images = set(os.path.splitext(file)[0] for file in os.listdir(image_dir) if file.endswith(('.png', '.jpg', '.jpeg')))\n",
    "labels = set(os.path.splitext(file)[0] for file in os.listdir(label_dir) if file.endswith('.txt'))\n",
    "\n",
    "missing_labels = images - labels\n",
    "missing_images = labels - images\n",
    "\n",
    "print(f\"Missing labels: {len(missing_labels)}\")\n",
    "print(f\"Missing images: {len(missing_images)}\")\n"
   ]
  },
  {
   "cell_type": "code",
   "execution_count": 7,
   "metadata": {},
   "outputs": [
    {
     "name": "stdout",
     "output_type": "stream",
     "text": [
      "라벨 파일 생성 완료\n"
     ]
    }
   ],
   "source": [
    "import os\n",
    "\n",
    "# 이미지가 저장된 디렉토리 경로\n",
    "image_dir = '/home/eslab/osh/CapStone/data9'\n",
    "\n",
    "# 이미지 확장자 목록\n",
    "image_extensions = ['.jpg', '.jpeg', '.png']\n",
    "\n",
    "# 라벨 파일을 저장할 디렉토리 (이 경우 이미지와 같은 폴더에 저장)\n",
    "label_dir = image_dir\n",
    "\n",
    "# 디렉토리에서 모든 파일을 확인\n",
    "for file in os.listdir(image_dir):\n",
    "    # 파일 확장자 확인\n",
    "    ext = os.path.splitext(file)[1].lower()\n",
    "    if ext in image_extensions:\n",
    "        # 이미지 파일 이름 추출\n",
    "        base_filename = os.path.splitext(file)[0]\n",
    "        # 해당 라벨 파일 경로 생성\n",
    "        label_file_path = os.path.join(label_dir, base_filename + '.txt')\n",
    "        # 라벨 파일이 이미 존재하지 않는 경우 새 파일 생성\n",
    "        if not os.path.exists(label_file_path):\n",
    "            with open(label_file_path, 'w') as f:\n",
    "                pass  # 빈 파일 생성\n",
    "\n",
    "print(\"라벨 파일 생성 완료\")\n"
   ]
  },
  {
   "cell_type": "code",
   "execution_count": 3,
   "metadata": {},
   "outputs": [
    {
     "name": "stdout",
     "output_type": "stream",
     "text": [
      "True\n"
     ]
    }
   ],
   "source": [
    "import torch\n",
    "print(torch.cuda.is_available())  # Should return True\n"
   ]
  },
  {
   "cell_type": "code",
   "execution_count": 2,
   "metadata": {},
   "outputs": [
    {
     "ename": "ModuleNotFoundError",
     "evalue": "No module named 'torch._custom_ops'",
     "output_type": "error",
     "traceback": [
      "\u001b[0;31m---------------------------------------------------------------------------\u001b[0m",
      "\u001b[0;31mModuleNotFoundError\u001b[0m                       Traceback (most recent call last)",
      "Cell \u001b[0;32mIn[2], line 2\u001b[0m\n\u001b[1;32m      1\u001b[0m \u001b[38;5;28;01mimport\u001b[39;00m \u001b[38;5;21;01mtorch\u001b[39;00m\n\u001b[0;32m----> 2\u001b[0m \u001b[38;5;28;01mimport\u001b[39;00m \u001b[38;5;21;01mtorchvision\u001b[39;00m\n\u001b[1;32m      3\u001b[0m \u001b[38;5;28mprint\u001b[39m(torch\u001b[38;5;241m.\u001b[39m__version__)\n\u001b[1;32m      4\u001b[0m \u001b[38;5;28mprint\u001b[39m(torchvision\u001b[38;5;241m.\u001b[39m__version__)\n",
      "File \u001b[0;32m~/anaconda3/envs/cap/lib/python3.8/site-packages/torchvision/__init__.py:6\u001b[0m\n\u001b[1;32m      3\u001b[0m \u001b[38;5;28;01mfrom\u001b[39;00m \u001b[38;5;21;01mmodulefinder\u001b[39;00m \u001b[38;5;28;01mimport\u001b[39;00m Module\n\u001b[1;32m      5\u001b[0m \u001b[38;5;28;01mimport\u001b[39;00m \u001b[38;5;21;01mtorch\u001b[39;00m\n\u001b[0;32m----> 6\u001b[0m \u001b[38;5;28;01mfrom\u001b[39;00m \u001b[38;5;21;01mtorchvision\u001b[39;00m \u001b[38;5;28;01mimport\u001b[39;00m _meta_registrations, datasets, io, models, ops, transforms, utils\n\u001b[1;32m      8\u001b[0m \u001b[38;5;28;01mfrom\u001b[39;00m \u001b[38;5;21;01m.\u001b[39;00m\u001b[38;5;21;01mextension\u001b[39;00m \u001b[38;5;28;01mimport\u001b[39;00m _HAS_OPS\n\u001b[1;32m     10\u001b[0m \u001b[38;5;28;01mtry\u001b[39;00m:\n",
      "File \u001b[0;32m~/anaconda3/envs/cap/lib/python3.8/site-packages/torchvision/_meta_registrations.py:4\u001b[0m\n\u001b[1;32m      1\u001b[0m \u001b[38;5;28;01mimport\u001b[39;00m \u001b[38;5;21;01mfunctools\u001b[39;00m\n\u001b[1;32m      3\u001b[0m \u001b[38;5;28;01mimport\u001b[39;00m \u001b[38;5;21;01mtorch\u001b[39;00m\n\u001b[0;32m----> 4\u001b[0m \u001b[38;5;28;01mimport\u001b[39;00m \u001b[38;5;21;01mtorch\u001b[39;00m\u001b[38;5;21;01m.\u001b[39;00m\u001b[38;5;21;01m_custom_ops\u001b[39;00m\n\u001b[1;32m      5\u001b[0m \u001b[38;5;28;01mimport\u001b[39;00m \u001b[38;5;21;01mtorch\u001b[39;00m\u001b[38;5;21;01m.\u001b[39;00m\u001b[38;5;21;01mlibrary\u001b[39;00m\n\u001b[1;32m      7\u001b[0m \u001b[38;5;66;03m# Ensure that torch.ops.torchvision is visible\u001b[39;00m\n",
      "\u001b[0;31mModuleNotFoundError\u001b[0m: No module named 'torch._custom_ops'"
     ]
    }
   ],
   "source": [
    "import torch\n",
    "import torchvision\n",
    "print(torch.__version__)\n",
    "print(torchvision.__version__)\n"
   ]
  },
  {
   "cell_type": "code",
   "execution_count": null,
   "metadata": {},
   "outputs": [],
   "source": []
  }
 ],
 "metadata": {
  "kernelspec": {
   "display_name": "nyh38",
   "language": "python",
   "name": "python3"
  },
  "language_info": {
   "codemirror_mode": {
    "name": "ipython",
    "version": 3
   },
   "file_extension": ".py",
   "mimetype": "text/x-python",
   "name": "python",
   "nbconvert_exporter": "python",
   "pygments_lexer": "ipython3",
   "version": "3.8.13"
  }
 },
 "nbformat": 4,
 "nbformat_minor": 2
}
